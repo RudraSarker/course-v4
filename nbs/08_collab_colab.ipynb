{
  "nbformat": 4,
  "nbformat_minor": 0,
  "metadata": {
    "jupytext": {
      "split_at_heading": true
    },
    "kernelspec": {
      "display_name": "Python 3",
      "language": "python",
      "name": "python3"
    },
    "language_info": {
      "codemirror_mode": {
        "name": "ipython",
        "version": 3
      },
      "file_extension": ".py",
      "mimetype": "text/x-python",
      "name": "python",
      "nbconvert_exporter": "python",
      "pygments_lexer": "ipython3",
      "version": "3.7.4"
    },
    "colab": {
      "name": "Copy of 08_collab.ipynb",
      "provenance": [],
      "include_colab_link": true
    },
    "accelerator": "GPU"
  },
  "cells": [
    {
      "cell_type": "markdown",
      "metadata": {
        "id": "view-in-github",
        "colab_type": "text"
      },
      "source": [
        "<a href=\"https://colab.research.google.com/github/WittmannF/course-v4/blob/master/nbs/08_collab_colab.ipynb\" target=\"_parent\"><img src=\"https://colab.research.google.com/assets/colab-badge.svg\" alt=\"Open In Colab\"/></a>"
      ]
    },
    {
      "cell_type": "code",
      "metadata": {
        "id": "94fziePXDL67",
        "colab_type": "code",
        "outputId": "0b30627d-322f-4dd7-e70e-9cedd9a28c91",
        "colab": {
          "base_uri": "https://localhost:8080/",
          "height": 204
        }
      },
      "source": [
        "# Let's first download a utility file for setting up Google Colab\n",
        "!wget https://raw.githubusercontent.com/WittmannF/course-v4/master/utils/colab_utils.py"
      ],
      "execution_count": 1,
      "outputs": [
        {
          "output_type": "stream",
          "text": [
            "--2020-05-06 14:28:18--  https://raw.githubusercontent.com/WittmannF/course-v4/master/utils/colab_utils.py\n",
            "Resolving raw.githubusercontent.com (raw.githubusercontent.com)... 151.101.0.133, 151.101.64.133, 151.101.128.133, ...\n",
            "Connecting to raw.githubusercontent.com (raw.githubusercontent.com)|151.101.0.133|:443... connected.\n",
            "HTTP request sent, awaiting response... 200 OK\n",
            "Length: 1214 (1.2K) [text/plain]\n",
            "Saving to: ‘colab_utils.py’\n",
            "\n",
            "\rcolab_utils.py        0%[                    ]       0  --.-KB/s               \rcolab_utils.py      100%[===================>]   1.19K  --.-KB/s    in 0s      \n",
            "\n",
            "2020-05-06 14:28:19 (20.7 MB/s) - ‘colab_utils.py’ saved [1214/1214]\n",
            "\n"
          ],
          "name": "stdout"
        }
      ]
    },
    {
      "cell_type": "code",
      "metadata": {
        "id": "RYuPzl9kDL3e",
        "colab_type": "code",
        "outputId": "4dc3ced4-bc6d-47e9-c888-a2cc703a26b3",
        "colab": {
          "base_uri": "https://localhost:8080/",
          "height": 221
        }
      },
      "source": [
        "from colab_utils import setup_fastai_colab\n",
        "setup_fastai_colab()"
      ],
      "execution_count": 2,
      "outputs": [
        {
          "output_type": "stream",
          "text": [
            "    NOTE: For debugging and visualizing stdout, please run:\n",
            "    from colab_utils import *\n",
            "    !{REQUIREMENTS_PIP}\n",
            "    !{GIT_CLONE_REPOSITORY}\n",
            "    %cd {FASTAI_NB_PATH}\n",
            "\n",
            "Installing requirements...\n",
            "Done!\n",
            "Cloning FastAI Repository...\n",
            "Done!\n",
            "Opening folder course-v4/nbs/ with nbs and utils files...\n",
            "Done!\n"
          ],
          "name": "stdout"
        }
      ]
    },
    {
      "cell_type": "code",
      "metadata": {
        "id": "ctzdyc_CDISz",
        "colab_type": "code",
        "colab": {}
      },
      "source": [
        "#hide\n",
        "from utils import *"
      ],
      "execution_count": 0,
      "outputs": []
    },
    {
      "cell_type": "markdown",
      "metadata": {
        "id": "H88f0vc3DIS9",
        "colab_type": "text"
      },
      "source": [
        "# Collaborative filtering deep dive"
      ]
    },
    {
      "cell_type": "markdown",
      "metadata": {
        "id": "4SYFsQbYDIS_",
        "colab_type": "text"
      },
      "source": [
        "## A first look at the data"
      ]
    },
    {
      "cell_type": "code",
      "metadata": {
        "id": "eBsGSdm9DITA",
        "colab_type": "code",
        "outputId": "041ff62b-c262-4b83-c337-2a5086feb985",
        "colab": {
          "base_uri": "https://localhost:8080/",
          "height": 17
        }
      },
      "source": [
        "from fastai2.collab import *\n",
        "from fastai2.tabular.all import *\n",
        "path = untar_data(URLs.ML_100k)"
      ],
      "execution_count": 4,
      "outputs": [
        {
          "output_type": "display_data",
          "data": {
            "text/html": [
              ""
            ],
            "text/plain": [
              "<IPython.core.display.HTML object>"
            ]
          },
          "metadata": {
            "tags": []
          }
        }
      ]
    },
    {
      "cell_type": "code",
      "metadata": {
        "id": "ZkWOXjAwDITH",
        "colab_type": "code",
        "outputId": "ad23a20a-f77b-476f-f268-e1ddefad9895",
        "colab": {
          "base_uri": "https://localhost:8080/",
          "height": 204
        }
      },
      "source": [
        "ratings = pd.read_csv(path/'u.data', delimiter='\\t', header=None,\n",
        "                      names=['user','movie','rating','timestamp'])\n",
        "ratings.head()"
      ],
      "execution_count": 5,
      "outputs": [
        {
          "output_type": "execute_result",
          "data": {
            "text/html": [
              "<div>\n",
              "<style scoped>\n",
              "    .dataframe tbody tr th:only-of-type {\n",
              "        vertical-align: middle;\n",
              "    }\n",
              "\n",
              "    .dataframe tbody tr th {\n",
              "        vertical-align: top;\n",
              "    }\n",
              "\n",
              "    .dataframe thead th {\n",
              "        text-align: right;\n",
              "    }\n",
              "</style>\n",
              "<table border=\"1\" class=\"dataframe\">\n",
              "  <thead>\n",
              "    <tr style=\"text-align: right;\">\n",
              "      <th></th>\n",
              "      <th>user</th>\n",
              "      <th>movie</th>\n",
              "      <th>rating</th>\n",
              "      <th>timestamp</th>\n",
              "    </tr>\n",
              "  </thead>\n",
              "  <tbody>\n",
              "    <tr>\n",
              "      <th>0</th>\n",
              "      <td>196</td>\n",
              "      <td>242</td>\n",
              "      <td>3</td>\n",
              "      <td>881250949</td>\n",
              "    </tr>\n",
              "    <tr>\n",
              "      <th>1</th>\n",
              "      <td>186</td>\n",
              "      <td>302</td>\n",
              "      <td>3</td>\n",
              "      <td>891717742</td>\n",
              "    </tr>\n",
              "    <tr>\n",
              "      <th>2</th>\n",
              "      <td>22</td>\n",
              "      <td>377</td>\n",
              "      <td>1</td>\n",
              "      <td>878887116</td>\n",
              "    </tr>\n",
              "    <tr>\n",
              "      <th>3</th>\n",
              "      <td>244</td>\n",
              "      <td>51</td>\n",
              "      <td>2</td>\n",
              "      <td>880606923</td>\n",
              "    </tr>\n",
              "    <tr>\n",
              "      <th>4</th>\n",
              "      <td>166</td>\n",
              "      <td>346</td>\n",
              "      <td>1</td>\n",
              "      <td>886397596</td>\n",
              "    </tr>\n",
              "  </tbody>\n",
              "</table>\n",
              "</div>"
            ],
            "text/plain": [
              "   user  movie  rating  timestamp\n",
              "0   196    242       3  881250949\n",
              "1   186    302       3  891717742\n",
              "2    22    377       1  878887116\n",
              "3   244     51       2  880606923\n",
              "4   166    346       1  886397596"
            ]
          },
          "metadata": {
            "tags": []
          },
          "execution_count": 5
        }
      ]
    },
    {
      "cell_type": "code",
      "metadata": {
        "id": "4g6CfzbeDITP",
        "colab_type": "code",
        "colab": {}
      },
      "source": [
        "last_skywalker = np.array([0.98,0.9,-0.9])"
      ],
      "execution_count": 0,
      "outputs": []
    },
    {
      "cell_type": "code",
      "metadata": {
        "id": "yuqg_tuCDITY",
        "colab_type": "code",
        "colab": {}
      },
      "source": [
        "user1 = np.array([0.9,0.8,-0.6])"
      ],
      "execution_count": 0,
      "outputs": []
    },
    {
      "cell_type": "code",
      "metadata": {
        "id": "aaxllKQBDITf",
        "colab_type": "code",
        "outputId": "69e1bb61-7dde-45e8-92f3-1fa51f4aae4e",
        "colab": {
          "base_uri": "https://localhost:8080/",
          "height": 34
        }
      },
      "source": [
        "(user1*last_skywalker).sum()"
      ],
      "execution_count": 8,
      "outputs": [
        {
          "output_type": "execute_result",
          "data": {
            "text/plain": [
              "2.1420000000000003"
            ]
          },
          "metadata": {
            "tags": []
          },
          "execution_count": 8
        }
      ]
    },
    {
      "cell_type": "code",
      "metadata": {
        "id": "Yg2niNixDITm",
        "colab_type": "code",
        "colab": {}
      },
      "source": [
        "casablanca = np.array([-0.99,-0.3,0.8])"
      ],
      "execution_count": 0,
      "outputs": []
    },
    {
      "cell_type": "code",
      "metadata": {
        "id": "EBHhOF6eDITs",
        "colab_type": "code",
        "outputId": "0478c2cf-145d-40f4-830e-2dfa7e65b82a",
        "colab": {
          "base_uri": "https://localhost:8080/",
          "height": 34
        }
      },
      "source": [
        "(user1*casablanca).sum()"
      ],
      "execution_count": 10,
      "outputs": [
        {
          "output_type": "execute_result",
          "data": {
            "text/plain": [
              "-1.611"
            ]
          },
          "metadata": {
            "tags": []
          },
          "execution_count": 10
        }
      ]
    },
    {
      "cell_type": "markdown",
      "metadata": {
        "id": "bAR5z3lUDITw",
        "colab_type": "text"
      },
      "source": [
        "## Learning the latent factors"
      ]
    },
    {
      "cell_type": "markdown",
      "metadata": {
        "id": "a9KhNyMqDITx",
        "colab_type": "text"
      },
      "source": [
        "## Creating the DataLoaders"
      ]
    },
    {
      "cell_type": "code",
      "metadata": {
        "id": "yFIXfBBkDITx",
        "colab_type": "code",
        "outputId": "dbed5aa9-7184-43be-b47c-7b162678e85b",
        "colab": {
          "base_uri": "https://localhost:8080/",
          "height": 204
        }
      },
      "source": [
        "movies = pd.read_csv(path/'u.item',  delimiter='|', encoding='latin-1',\n",
        "                     usecols=(0,1), names=('movie','title'), header=None)\n",
        "movies.head()"
      ],
      "execution_count": 11,
      "outputs": [
        {
          "output_type": "execute_result",
          "data": {
            "text/html": [
              "<div>\n",
              "<style scoped>\n",
              "    .dataframe tbody tr th:only-of-type {\n",
              "        vertical-align: middle;\n",
              "    }\n",
              "\n",
              "    .dataframe tbody tr th {\n",
              "        vertical-align: top;\n",
              "    }\n",
              "\n",
              "    .dataframe thead th {\n",
              "        text-align: right;\n",
              "    }\n",
              "</style>\n",
              "<table border=\"1\" class=\"dataframe\">\n",
              "  <thead>\n",
              "    <tr style=\"text-align: right;\">\n",
              "      <th></th>\n",
              "      <th>movie</th>\n",
              "      <th>title</th>\n",
              "    </tr>\n",
              "  </thead>\n",
              "  <tbody>\n",
              "    <tr>\n",
              "      <th>0</th>\n",
              "      <td>1</td>\n",
              "      <td>Toy Story (1995)</td>\n",
              "    </tr>\n",
              "    <tr>\n",
              "      <th>1</th>\n",
              "      <td>2</td>\n",
              "      <td>GoldenEye (1995)</td>\n",
              "    </tr>\n",
              "    <tr>\n",
              "      <th>2</th>\n",
              "      <td>3</td>\n",
              "      <td>Four Rooms (1995)</td>\n",
              "    </tr>\n",
              "    <tr>\n",
              "      <th>3</th>\n",
              "      <td>4</td>\n",
              "      <td>Get Shorty (1995)</td>\n",
              "    </tr>\n",
              "    <tr>\n",
              "      <th>4</th>\n",
              "      <td>5</td>\n",
              "      <td>Copycat (1995)</td>\n",
              "    </tr>\n",
              "  </tbody>\n",
              "</table>\n",
              "</div>"
            ],
            "text/plain": [
              "   movie              title\n",
              "0      1   Toy Story (1995)\n",
              "1      2   GoldenEye (1995)\n",
              "2      3  Four Rooms (1995)\n",
              "3      4  Get Shorty (1995)\n",
              "4      5     Copycat (1995)"
            ]
          },
          "metadata": {
            "tags": []
          },
          "execution_count": 11
        }
      ]
    },
    {
      "cell_type": "code",
      "metadata": {
        "id": "PjIGRE0qDIT1",
        "colab_type": "code",
        "outputId": "f05c8a03-eb09-4606-aec8-d7b6cf2b6b14",
        "colab": {
          "base_uri": "https://localhost:8080/",
          "height": 204
        }
      },
      "source": [
        "ratings = ratings.merge(movies)\n",
        "ratings.head()"
      ],
      "execution_count": 12,
      "outputs": [
        {
          "output_type": "execute_result",
          "data": {
            "text/html": [
              "<div>\n",
              "<style scoped>\n",
              "    .dataframe tbody tr th:only-of-type {\n",
              "        vertical-align: middle;\n",
              "    }\n",
              "\n",
              "    .dataframe tbody tr th {\n",
              "        vertical-align: top;\n",
              "    }\n",
              "\n",
              "    .dataframe thead th {\n",
              "        text-align: right;\n",
              "    }\n",
              "</style>\n",
              "<table border=\"1\" class=\"dataframe\">\n",
              "  <thead>\n",
              "    <tr style=\"text-align: right;\">\n",
              "      <th></th>\n",
              "      <th>user</th>\n",
              "      <th>movie</th>\n",
              "      <th>rating</th>\n",
              "      <th>timestamp</th>\n",
              "      <th>title</th>\n",
              "    </tr>\n",
              "  </thead>\n",
              "  <tbody>\n",
              "    <tr>\n",
              "      <th>0</th>\n",
              "      <td>196</td>\n",
              "      <td>242</td>\n",
              "      <td>3</td>\n",
              "      <td>881250949</td>\n",
              "      <td>Kolya (1996)</td>\n",
              "    </tr>\n",
              "    <tr>\n",
              "      <th>1</th>\n",
              "      <td>63</td>\n",
              "      <td>242</td>\n",
              "      <td>3</td>\n",
              "      <td>875747190</td>\n",
              "      <td>Kolya (1996)</td>\n",
              "    </tr>\n",
              "    <tr>\n",
              "      <th>2</th>\n",
              "      <td>226</td>\n",
              "      <td>242</td>\n",
              "      <td>5</td>\n",
              "      <td>883888671</td>\n",
              "      <td>Kolya (1996)</td>\n",
              "    </tr>\n",
              "    <tr>\n",
              "      <th>3</th>\n",
              "      <td>154</td>\n",
              "      <td>242</td>\n",
              "      <td>3</td>\n",
              "      <td>879138235</td>\n",
              "      <td>Kolya (1996)</td>\n",
              "    </tr>\n",
              "    <tr>\n",
              "      <th>4</th>\n",
              "      <td>306</td>\n",
              "      <td>242</td>\n",
              "      <td>5</td>\n",
              "      <td>876503793</td>\n",
              "      <td>Kolya (1996)</td>\n",
              "    </tr>\n",
              "  </tbody>\n",
              "</table>\n",
              "</div>"
            ],
            "text/plain": [
              "   user  movie  rating  timestamp         title\n",
              "0   196    242       3  881250949  Kolya (1996)\n",
              "1    63    242       3  875747190  Kolya (1996)\n",
              "2   226    242       5  883888671  Kolya (1996)\n",
              "3   154    242       3  879138235  Kolya (1996)\n",
              "4   306    242       5  876503793  Kolya (1996)"
            ]
          },
          "metadata": {
            "tags": []
          },
          "execution_count": 12
        }
      ]
    },
    {
      "cell_type": "code",
      "metadata": {
        "id": "7rLlCNjjDIT-",
        "colab_type": "code",
        "outputId": "3ed9b37b-6953-4fff-9606-4b078fd7d301",
        "colab": {
          "base_uri": "https://localhost:8080/",
          "height": 359
        }
      },
      "source": [
        "dls = CollabDataLoaders.from_df(ratings, item_name='title', bs=64)\n",
        "dls.show_batch()"
      ],
      "execution_count": 13,
      "outputs": [
        {
          "output_type": "display_data",
          "data": {
            "text/html": [
              "<table border=\"1\" class=\"dataframe\">\n",
              "  <thead>\n",
              "    <tr style=\"text-align: right;\">\n",
              "      <th></th>\n",
              "      <th>user</th>\n",
              "      <th>title</th>\n",
              "      <th>rating</th>\n",
              "    </tr>\n",
              "  </thead>\n",
              "  <tbody>\n",
              "    <tr>\n",
              "      <th>0</th>\n",
              "      <td>542</td>\n",
              "      <td>My Left Foot (1989)</td>\n",
              "      <td>4</td>\n",
              "    </tr>\n",
              "    <tr>\n",
              "      <th>1</th>\n",
              "      <td>422</td>\n",
              "      <td>Event Horizon (1997)</td>\n",
              "      <td>3</td>\n",
              "    </tr>\n",
              "    <tr>\n",
              "      <th>2</th>\n",
              "      <td>311</td>\n",
              "      <td>African Queen, The (1951)</td>\n",
              "      <td>4</td>\n",
              "    </tr>\n",
              "    <tr>\n",
              "      <th>3</th>\n",
              "      <td>595</td>\n",
              "      <td>Face/Off (1997)</td>\n",
              "      <td>4</td>\n",
              "    </tr>\n",
              "    <tr>\n",
              "      <th>4</th>\n",
              "      <td>617</td>\n",
              "      <td>Evil Dead II (1987)</td>\n",
              "      <td>1</td>\n",
              "    </tr>\n",
              "    <tr>\n",
              "      <th>5</th>\n",
              "      <td>158</td>\n",
              "      <td>Jurassic Park (1993)</td>\n",
              "      <td>5</td>\n",
              "    </tr>\n",
              "    <tr>\n",
              "      <th>6</th>\n",
              "      <td>836</td>\n",
              "      <td>Chasing Amy (1997)</td>\n",
              "      <td>3</td>\n",
              "    </tr>\n",
              "    <tr>\n",
              "      <th>7</th>\n",
              "      <td>474</td>\n",
              "      <td>Emma (1996)</td>\n",
              "      <td>3</td>\n",
              "    </tr>\n",
              "    <tr>\n",
              "      <th>8</th>\n",
              "      <td>466</td>\n",
              "      <td>Jackie Chan's First Strike (1996)</td>\n",
              "      <td>3</td>\n",
              "    </tr>\n",
              "    <tr>\n",
              "      <th>9</th>\n",
              "      <td>554</td>\n",
              "      <td>Scream (1996)</td>\n",
              "      <td>3</td>\n",
              "    </tr>\n",
              "  </tbody>\n",
              "</table>"
            ],
            "text/plain": [
              "<IPython.core.display.HTML object>"
            ]
          },
          "metadata": {
            "tags": []
          }
        }
      ]
    },
    {
      "cell_type": "code",
      "metadata": {
        "id": "73YiIksuDIUO",
        "colab_type": "code",
        "colab": {}
      },
      "source": [
        "n_users  = len(dls.classes['user'])\n",
        "n_movies = len(dls.classes['title'])\n",
        "n_factors = 5\n",
        "\n",
        "user_factors = torch.randn(n_users, n_factors)\n",
        "movie_factors = torch.randn(n_movies, n_factors)"
      ],
      "execution_count": 0,
      "outputs": []
    },
    {
      "cell_type": "code",
      "metadata": {
        "id": "lpn71w7GDIUW",
        "colab_type": "code",
        "outputId": "5eb96e3d-314b-49e8-ad66-db1d25aeb708",
        "colab": {
          "base_uri": "https://localhost:8080/",
          "height": 34
        }
      },
      "source": [
        "one_hot_3 = one_hot(3, n_users).float()\n",
        "user_factors.t() @ one_hot_3"
      ],
      "execution_count": 15,
      "outputs": [
        {
          "output_type": "execute_result",
          "data": {
            "text/plain": [
              "tensor([-0.4586, -0.9915, -0.4052, -0.3621, -0.5908])"
            ]
          },
          "metadata": {
            "tags": []
          },
          "execution_count": 15
        }
      ]
    },
    {
      "cell_type": "code",
      "metadata": {
        "id": "RTJwblIxDIUe",
        "colab_type": "code",
        "outputId": "37dc0877-1be7-4212-b320-5967e246e0cc",
        "colab": {
          "base_uri": "https://localhost:8080/",
          "height": 34
        }
      },
      "source": [
        "user_factors[3]"
      ],
      "execution_count": 16,
      "outputs": [
        {
          "output_type": "execute_result",
          "data": {
            "text/plain": [
              "tensor([-0.4586, -0.9915, -0.4052, -0.3621, -0.5908])"
            ]
          },
          "metadata": {
            "tags": []
          },
          "execution_count": 16
        }
      ]
    },
    {
      "cell_type": "markdown",
      "metadata": {
        "id": "M4HR5Xc9DIUl",
        "colab_type": "text"
      },
      "source": [
        "## Collaborative filtering from scratch"
      ]
    },
    {
      "cell_type": "code",
      "metadata": {
        "id": "OxaHrbsoDIUn",
        "colab_type": "code",
        "colab": {}
      },
      "source": [
        "class Example:\n",
        "    def __init__(self, a): self.a = a\n",
        "    def say(self,x): return f'Hello {self.a}, {x}.'"
      ],
      "execution_count": 0,
      "outputs": []
    },
    {
      "cell_type": "code",
      "metadata": {
        "id": "aexbLEPtDIUt",
        "colab_type": "code",
        "outputId": "45d33da6-f225-40f8-9864-57aecc92d8fb",
        "colab": {
          "base_uri": "https://localhost:8080/",
          "height": 34
        }
      },
      "source": [
        "ex = Example('Sylvain')\n",
        "ex.say('nice to meet you')"
      ],
      "execution_count": 18,
      "outputs": [
        {
          "output_type": "execute_result",
          "data": {
            "text/plain": [
              "'Hello Sylvain, nice to meet you.'"
            ]
          },
          "metadata": {
            "tags": []
          },
          "execution_count": 18
        }
      ]
    },
    {
      "cell_type": "code",
      "metadata": {
        "id": "pcY5FKjaDIUy",
        "colab_type": "code",
        "colab": {}
      },
      "source": [
        "class DotProduct(Module):\n",
        "    def __init__(self, n_users, n_movies, n_factors):\n",
        "        self.user_factors = Embedding(n_users, n_factors)\n",
        "        self.movie_factors = Embedding(n_movies, n_factors)\n",
        "        \n",
        "    def forward(self, x):\n",
        "        users = self.user_factors(x[:,0])\n",
        "        movies = self.movie_factors(x[:,1])\n",
        "        return (users * movies).sum(dim=1)"
      ],
      "execution_count": 0,
      "outputs": []
    },
    {
      "cell_type": "code",
      "metadata": {
        "id": "JaD_bVINDIU2",
        "colab_type": "code",
        "outputId": "08e778e2-30e4-45c1-dcec-09cb65c34c6a",
        "colab": {
          "base_uri": "https://localhost:8080/",
          "height": 34
        }
      },
      "source": [
        "x,y = dls.one_batch()\n",
        "x.shape"
      ],
      "execution_count": 20,
      "outputs": [
        {
          "output_type": "execute_result",
          "data": {
            "text/plain": [
              "torch.Size([64, 2])"
            ]
          },
          "metadata": {
            "tags": []
          },
          "execution_count": 20
        }
      ]
    },
    {
      "cell_type": "code",
      "metadata": {
        "id": "fTaPkB1UDIU8",
        "colab_type": "code",
        "colab": {}
      },
      "source": [
        "model = DotProduct(n_users, n_movies, 50)\n",
        "learn = Learner(dls, model, loss_func=MSELossFlat())"
      ],
      "execution_count": 0,
      "outputs": []
    },
    {
      "cell_type": "code",
      "metadata": {
        "id": "aZRuI79-DIU_",
        "colab_type": "code",
        "outputId": "5a0d0dca-c319-4f14-feca-8d6d37929b15",
        "colab": {
          "base_uri": "https://localhost:8080/",
          "height": 204
        }
      },
      "source": [
        "learn.fit_one_cycle(5, 5e-3)"
      ],
      "execution_count": 22,
      "outputs": [
        {
          "output_type": "display_data",
          "data": {
            "text/html": [
              "<table border=\"1\" class=\"dataframe\">\n",
              "  <thead>\n",
              "    <tr style=\"text-align: left;\">\n",
              "      <th>epoch</th>\n",
              "      <th>train_loss</th>\n",
              "      <th>valid_loss</th>\n",
              "      <th>time</th>\n",
              "    </tr>\n",
              "  </thead>\n",
              "  <tbody>\n",
              "    <tr>\n",
              "      <td>0</td>\n",
              "      <td>1.344049</td>\n",
              "      <td>1.278108</td>\n",
              "      <td>00:11</td>\n",
              "    </tr>\n",
              "    <tr>\n",
              "      <td>1</td>\n",
              "      <td>1.080489</td>\n",
              "      <td>1.099549</td>\n",
              "      <td>00:10</td>\n",
              "    </tr>\n",
              "    <tr>\n",
              "      <td>2</td>\n",
              "      <td>0.945120</td>\n",
              "      <td>0.980648</td>\n",
              "      <td>00:11</td>\n",
              "    </tr>\n",
              "    <tr>\n",
              "      <td>3</td>\n",
              "      <td>0.799253</td>\n",
              "      <td>0.888812</td>\n",
              "      <td>00:11</td>\n",
              "    </tr>\n",
              "    <tr>\n",
              "      <td>4</td>\n",
              "      <td>0.763677</td>\n",
              "      <td>0.876129</td>\n",
              "      <td>00:10</td>\n",
              "    </tr>\n",
              "  </tbody>\n",
              "</table>"
            ],
            "text/plain": [
              "<IPython.core.display.HTML object>"
            ]
          },
          "metadata": {
            "tags": []
          }
        }
      ]
    },
    {
      "cell_type": "code",
      "metadata": {
        "id": "O3Vh_TeADIVD",
        "colab_type": "code",
        "colab": {}
      },
      "source": [
        "class DotProduct(Module):\n",
        "    def __init__(self, n_users, n_movies, n_factors, y_range=(0,5.5)):\n",
        "        self.user_factors = Embedding(n_users, n_factors)\n",
        "        self.movie_factors = Embedding(n_movies, n_factors)\n",
        "        self.y_range = y_range\n",
        "        \n",
        "    def forward(self, x):\n",
        "        users = self.user_factors(x[:,0])\n",
        "        movies = self.movie_factors(x[:,1])\n",
        "        return sigmoid_range((users * movies).sum(dim=1), *self.y_range)"
      ],
      "execution_count": 0,
      "outputs": []
    },
    {
      "cell_type": "code",
      "metadata": {
        "id": "ZwPVzrvDDIVJ",
        "colab_type": "code",
        "outputId": "334e5655-cbb2-4aaa-9d5e-17156eb92e48",
        "colab": {
          "base_uri": "https://localhost:8080/",
          "height": 204
        }
      },
      "source": [
        "model = DotProduct(n_users, n_movies, 50)\n",
        "learn = Learner(dls, model, loss_func=MSELossFlat())\n",
        "learn.fit_one_cycle(5, 5e-3)"
      ],
      "execution_count": 24,
      "outputs": [
        {
          "output_type": "display_data",
          "data": {
            "text/html": [
              "<table border=\"1\" class=\"dataframe\">\n",
              "  <thead>\n",
              "    <tr style=\"text-align: left;\">\n",
              "      <th>epoch</th>\n",
              "      <th>train_loss</th>\n",
              "      <th>valid_loss</th>\n",
              "      <th>time</th>\n",
              "    </tr>\n",
              "  </thead>\n",
              "  <tbody>\n",
              "    <tr>\n",
              "      <td>0</td>\n",
              "      <td>0.973745</td>\n",
              "      <td>0.993206</td>\n",
              "      <td>00:11</td>\n",
              "    </tr>\n",
              "    <tr>\n",
              "      <td>1</td>\n",
              "      <td>0.869132</td>\n",
              "      <td>0.914323</td>\n",
              "      <td>00:11</td>\n",
              "    </tr>\n",
              "    <tr>\n",
              "      <td>2</td>\n",
              "      <td>0.676553</td>\n",
              "      <td>0.870192</td>\n",
              "      <td>00:11</td>\n",
              "    </tr>\n",
              "    <tr>\n",
              "      <td>3</td>\n",
              "      <td>0.485377</td>\n",
              "      <td>0.873865</td>\n",
              "      <td>00:11</td>\n",
              "    </tr>\n",
              "    <tr>\n",
              "      <td>4</td>\n",
              "      <td>0.377866</td>\n",
              "      <td>0.877610</td>\n",
              "      <td>00:11</td>\n",
              "    </tr>\n",
              "  </tbody>\n",
              "</table>"
            ],
            "text/plain": [
              "<IPython.core.display.HTML object>"
            ]
          },
          "metadata": {
            "tags": []
          }
        }
      ]
    },
    {
      "cell_type": "code",
      "metadata": {
        "id": "JIKke9h5DIVM",
        "colab_type": "code",
        "colab": {}
      },
      "source": [
        "class DotProductBias(Module):\n",
        "    def __init__(self, n_users, n_movies, n_factors, y_range=(0,5.5)):\n",
        "        self.user_factors = Embedding(n_users, n_factors)\n",
        "        self.user_bias = Embedding(n_users, 1)\n",
        "        self.movie_factors = Embedding(n_movies, n_factors)\n",
        "        self.movie_bias = Embedding(n_movies, 1)\n",
        "        self.y_range = y_range\n",
        "        \n",
        "    def forward(self, x):\n",
        "        users = self.user_factors(x[:,0])\n",
        "        movies = self.movie_factors(x[:,1])\n",
        "        res = (users * movies).sum(dim=1, keepdim=True)\n",
        "        res += self.user_bias(x[:,0]) + self.movie_bias(x[:,1])\n",
        "        return sigmoid_range(res, *self.y_range)"
      ],
      "execution_count": 0,
      "outputs": []
    },
    {
      "cell_type": "code",
      "metadata": {
        "id": "ax98DudvDIVQ",
        "colab_type": "code",
        "outputId": "edf26bae-80fd-40c5-a337-c7b08f3ba5f6",
        "colab": {
          "base_uri": "https://localhost:8080/",
          "height": 204
        }
      },
      "source": [
        "model = DotProductBias(n_users, n_movies, 50)\n",
        "learn = Learner(dls, model, loss_func=MSELossFlat())\n",
        "learn.fit_one_cycle(5, 5e-3)"
      ],
      "execution_count": 26,
      "outputs": [
        {
          "output_type": "display_data",
          "data": {
            "text/html": [
              "<table border=\"1\" class=\"dataframe\">\n",
              "  <thead>\n",
              "    <tr style=\"text-align: left;\">\n",
              "      <th>epoch</th>\n",
              "      <th>train_loss</th>\n",
              "      <th>valid_loss</th>\n",
              "      <th>time</th>\n",
              "    </tr>\n",
              "  </thead>\n",
              "  <tbody>\n",
              "    <tr>\n",
              "      <td>0</td>\n",
              "      <td>0.932781</td>\n",
              "      <td>0.946704</td>\n",
              "      <td>00:12</td>\n",
              "    </tr>\n",
              "    <tr>\n",
              "      <td>1</td>\n",
              "      <td>0.835874</td>\n",
              "      <td>0.865593</td>\n",
              "      <td>00:12</td>\n",
              "    </tr>\n",
              "    <tr>\n",
              "      <td>2</td>\n",
              "      <td>0.594591</td>\n",
              "      <td>0.865241</td>\n",
              "      <td>00:12</td>\n",
              "    </tr>\n",
              "    <tr>\n",
              "      <td>3</td>\n",
              "      <td>0.402738</td>\n",
              "      <td>0.889361</td>\n",
              "      <td>00:12</td>\n",
              "    </tr>\n",
              "    <tr>\n",
              "      <td>4</td>\n",
              "      <td>0.285098</td>\n",
              "      <td>0.896699</td>\n",
              "      <td>00:12</td>\n",
              "    </tr>\n",
              "  </tbody>\n",
              "</table>"
            ],
            "text/plain": [
              "<IPython.core.display.HTML object>"
            ]
          },
          "metadata": {
            "tags": []
          }
        }
      ]
    },
    {
      "cell_type": "markdown",
      "metadata": {
        "id": "Yj1rI3RkDIVU",
        "colab_type": "text"
      },
      "source": [
        "### Weight decay"
      ]
    },
    {
      "cell_type": "code",
      "metadata": {
        "hide_input": true,
        "id": "NK6W7L8sDIVV",
        "colab_type": "code",
        "outputId": "8d10d7af-e2d6-4b2c-fe8e-d5ce3e236fcc",
        "colab": {
          "base_uri": "https://localhost:8080/",
          "height": 382
        }
      },
      "source": [
        "x = np.linspace(-2,2,100)\n",
        "a_s = [1,2,5,10,50] \n",
        "ys = [a * x**2 for a in a_s]\n",
        "_,ax = plt.subplots(figsize=(8,6))\n",
        "for a,y in zip(a_s,ys): ax.plot(x,y, label=f'a={a}')\n",
        "ax.set_ylim([0,5])\n",
        "ax.legend();"
      ],
      "execution_count": 27,
      "outputs": [
        {
          "output_type": "display_data",
          "data": {
            "image/png": "[encoded data removed]",
            "text/plain": [
              "<Figure size 576x432 with 1 Axes>"
            ]
          },
          "metadata": {
            "tags": [],
            "needs_background": "light"
          }
        }
      ]
    },
    {
      "cell_type": "code",
      "metadata": {
        "id": "v5IAWSsbDIVZ",
        "colab_type": "code",
        "outputId": "a7612a23-b5bd-4619-f729-b317ef72c0d9",
        "colab": {
          "base_uri": "https://localhost:8080/",
          "height": 204
        }
      },
      "source": [
        "model = DotProductBias(n_users, n_movies, 50)\n",
        "learn = Learner(dls, model, loss_func=MSELossFlat())\n",
        "learn.fit_one_cycle(5, 5e-3, wd=0.1)"
      ],
      "execution_count": 28,
      "outputs": [
        {
          "output_type": "display_data",
          "data": {
            "text/html": [
              "<table border=\"1\" class=\"dataframe\">\n",
              "  <thead>\n",
              "    <tr style=\"text-align: left;\">\n",
              "      <th>epoch</th>\n",
              "      <th>train_loss</th>\n",
              "      <th>valid_loss</th>\n",
              "      <th>time</th>\n",
              "    </tr>\n",
              "  </thead>\n",
              "  <tbody>\n",
              "    <tr>\n",
              "      <td>0</td>\n",
              "      <td>0.928349</td>\n",
              "      <td>0.958134</td>\n",
              "      <td>00:12</td>\n",
              "    </tr>\n",
              "    <tr>\n",
              "      <td>1</td>\n",
              "      <td>0.891403</td>\n",
              "      <td>0.883691</td>\n",
              "      <td>00:12</td>\n",
              "    </tr>\n",
              "    <tr>\n",
              "      <td>2</td>\n",
              "      <td>0.777123</td>\n",
              "      <td>0.833353</td>\n",
              "      <td>00:12</td>\n",
              "    </tr>\n",
              "    <tr>\n",
              "      <td>3</td>\n",
              "      <td>0.602557</td>\n",
              "      <td>0.823443</td>\n",
              "      <td>00:12</td>\n",
              "    </tr>\n",
              "    <tr>\n",
              "      <td>4</td>\n",
              "      <td>0.506228</td>\n",
              "      <td>0.823553</td>\n",
              "      <td>00:12</td>\n",
              "    </tr>\n",
              "  </tbody>\n",
              "</table>"
            ],
            "text/plain": [
              "<IPython.core.display.HTML object>"
            ]
          },
          "metadata": {
            "tags": []
          }
        }
      ]
    },
    {
      "cell_type": "markdown",
      "metadata": {
        "id": "wXB1yTs_DIVc",
        "colab_type": "text"
      },
      "source": [
        "### Creating our own Embedding module"
      ]
    },
    {
      "cell_type": "code",
      "metadata": {
        "id": "hszk5nMiDIVd",
        "colab_type": "code",
        "outputId": "f4b5c015-54b7-48f5-ba58-b01c8396d9c9",
        "colab": {
          "base_uri": "https://localhost:8080/",
          "height": 34
        }
      },
      "source": [
        "class T(Module):\n",
        "    def __init__(self): self.a = torch.ones(3)\n",
        "\n",
        "L(T().parameters())"
      ],
      "execution_count": 29,
      "outputs": [
        {
          "output_type": "execute_result",
          "data": {
            "text/plain": [
              "(#0) []"
            ]
          },
          "metadata": {
            "tags": []
          },
          "execution_count": 29
        }
      ]
    },
    {
      "cell_type": "code",
      "metadata": {
        "id": "5vVYJGyhDIVh",
        "colab_type": "code",
        "outputId": "29933c0d-a699-40be-8100-e9dfa1299571",
        "colab": {
          "base_uri": "https://localhost:8080/",
          "height": 51
        }
      },
      "source": [
        "class T(Module):\n",
        "    def __init__(self): self.a = nn.Parameter(torch.ones(3))\n",
        "\n",
        "L(T().parameters())"
      ],
      "execution_count": 30,
      "outputs": [
        {
          "output_type": "execute_result",
          "data": {
            "text/plain": [
              "(#1) [Parameter containing:\n",
              "tensor([1., 1., 1.], requires_grad=True)]"
            ]
          },
          "metadata": {
            "tags": []
          },
          "execution_count": 30
        }
      ]
    },
    {
      "cell_type": "code",
      "metadata": {
        "id": "vLKJtxepDIVl",
        "colab_type": "code",
        "outputId": "a4bad256-e7ca-4bff-db8b-03b283fe89d5",
        "colab": {
          "base_uri": "https://localhost:8080/",
          "height": 85
        }
      },
      "source": [
        "class T(Module):\n",
        "    def __init__(self): self.a = nn.Linear(1, 3, bias=False)\n",
        "\n",
        "t = T()\n",
        "L(t.parameters())"
      ],
      "execution_count": 31,
      "outputs": [
        {
          "output_type": "execute_result",
          "data": {
            "text/plain": [
              "(#1) [Parameter containing:\n",
              "tensor([[-0.5069],\n",
              "        [-0.6820],\n",
              "        [ 0.7624]], requires_grad=True)]"
            ]
          },
          "metadata": {
            "tags": []
          },
          "execution_count": 31
        }
      ]
    },
    {
      "cell_type": "code",
      "metadata": {
        "id": "fN2AFU8zDIVp",
        "colab_type": "code",
        "outputId": "f3124060-886c-42fa-b88b-fb63fad018a1",
        "colab": {
          "base_uri": "https://localhost:8080/",
          "height": 34
        }
      },
      "source": [
        "type(t.a.weight)"
      ],
      "execution_count": 32,
      "outputs": [
        {
          "output_type": "execute_result",
          "data": {
            "text/plain": [
              "torch.nn.parameter.Parameter"
            ]
          },
          "metadata": {
            "tags": []
          },
          "execution_count": 32
        }
      ]
    },
    {
      "cell_type": "code",
      "metadata": {
        "id": "pBJK4eqhDIVs",
        "colab_type": "code",
        "colab": {}
      },
      "source": [
        "def create_params(size):\n",
        "    return nn.Parameter(torch.zeros(*size).normal_(0, 0.01))"
      ],
      "execution_count": 0,
      "outputs": []
    },
    {
      "cell_type": "code",
      "metadata": {
        "id": "Bfnpf4dmDIVz",
        "colab_type": "code",
        "colab": {}
      },
      "source": [
        "class DotProductBias(Module):\n",
        "    def __init__(self, n_users, n_movies, n_factors, y_range=(0,5.5)):\n",
        "        self.user_factors = create_params([n_users, n_factors])\n",
        "        self.user_bias = create_params([n_users])\n",
        "        self.movie_factors = create_params([n_movies, n_factors])\n",
        "        self.movie_bias = create_params([n_movies])\n",
        "        self.y_range = y_range\n",
        "        \n",
        "    def forward(self, x):\n",
        "        users = self.user_factors[x[:,0]]\n",
        "        movies = self.movie_factors[x[:,1]]\n",
        "        res = (users*movies).sum(dim=1)\n",
        "        res += self.user_bias[x[:,0]] + self.movie_bias[x[:,1]]\n",
        "        return sigmoid_range(res, *self.y_range)"
      ],
      "execution_count": 0,
      "outputs": []
    },
    {
      "cell_type": "code",
      "metadata": {
        "id": "ahMiwOZVDIV3",
        "colab_type": "code",
        "outputId": "e7e70883-0a79-44ea-fa3f-e1ea85e64c9e",
        "colab": {
          "base_uri": "https://localhost:8080/",
          "height": 204
        }
      },
      "source": [
        "model = DotProductBias(n_users, n_movies, 50)\n",
        "learn = Learner(dls, model, loss_func=MSELossFlat())\n",
        "learn.fit_one_cycle(5, 5e-3, wd=0.1)"
      ],
      "execution_count": 35,
      "outputs": [
        {
          "output_type": "display_data",
          "data": {
            "text/html": [
              "<table border=\"1\" class=\"dataframe\">\n",
              "  <thead>\n",
              "    <tr style=\"text-align: left;\">\n",
              "      <th>epoch</th>\n",
              "      <th>train_loss</th>\n",
              "      <th>valid_loss</th>\n",
              "      <th>time</th>\n",
              "    </tr>\n",
              "  </thead>\n",
              "  <tbody>\n",
              "    <tr>\n",
              "      <td>0</td>\n",
              "      <td>0.923311</td>\n",
              "      <td>0.946467</td>\n",
              "      <td>00:13</td>\n",
              "    </tr>\n",
              "    <tr>\n",
              "      <td>1</td>\n",
              "      <td>0.867558</td>\n",
              "      <td>0.879160</td>\n",
              "      <td>00:13</td>\n",
              "    </tr>\n",
              "    <tr>\n",
              "      <td>2</td>\n",
              "      <td>0.727712</td>\n",
              "      <td>0.837130</td>\n",
              "      <td>00:13</td>\n",
              "    </tr>\n",
              "    <tr>\n",
              "      <td>3</td>\n",
              "      <td>0.590867</td>\n",
              "      <td>0.825525</td>\n",
              "      <td>00:13</td>\n",
              "    </tr>\n",
              "    <tr>\n",
              "      <td>4</td>\n",
              "      <td>0.479506</td>\n",
              "      <td>0.825237</td>\n",
              "      <td>00:13</td>\n",
              "    </tr>\n",
              "  </tbody>\n",
              "</table>"
            ],
            "text/plain": [
              "<IPython.core.display.HTML object>"
            ]
          },
          "metadata": {
            "tags": []
          }
        }
      ]
    },
    {
      "cell_type": "markdown",
      "metadata": {
        "id": "mWSB6Lu6DIV7",
        "colab_type": "text"
      },
      "source": [
        "## Interpreting embeddings and biases"
      ]
    },
    {
      "cell_type": "code",
      "metadata": {
        "id": "HL0YCiohDIV8",
        "colab_type": "code",
        "outputId": "5173d828-3f6a-479a-83af-901a4d14a648",
        "colab": {
          "base_uri": "https://localhost:8080/",
          "height": 102
        }
      },
      "source": [
        "movie_bias = learn.model.movie_bias.squeeze()\n",
        "idxs = movie_bias.argsort()[:5]\n",
        "[dls.classes['title'][i] for i in idxs]"
      ],
      "execution_count": 36,
      "outputs": [
        {
          "output_type": "execute_result",
          "data": {
            "text/plain": [
              "['Children of the Corn: The Gathering (1996)',\n",
              " 'Lawnmower Man 2: Beyond Cyberspace (1996)',\n",
              " 'Mortal Kombat: Annihilation (1997)',\n",
              " 'Robocop 3 (1993)',\n",
              " 'Beautician and the Beast, The (1997)']"
            ]
          },
          "metadata": {
            "tags": []
          },
          "execution_count": 36
        }
      ]
    },
    {
      "cell_type": "code",
      "metadata": {
        "id": "LryhAwzsDIWA",
        "colab_type": "code",
        "outputId": "858811bf-8e0f-4b91-d419-352323851b73",
        "colab": {
          "base_uri": "https://localhost:8080/",
          "height": 102
        }
      },
      "source": [
        "idxs = movie_bias.argsort(descending=True)[:5]\n",
        "[dls.classes['title'][i] for i in idxs]"
      ],
      "execution_count": 37,
      "outputs": [
        {
          "output_type": "execute_result",
          "data": {
            "text/plain": [
              "['Titanic (1997)',\n",
              " 'Shawshank Redemption, The (1994)',\n",
              " 'Silence of the Lambs, The (1991)',\n",
              " 'L.A. Confidential (1997)',\n",
              " \"Schindler's List (1993)\"]"
            ]
          },
          "metadata": {
            "tags": []
          },
          "execution_count": 37
        }
      ]
    },
    {
      "cell_type": "code",
      "metadata": {
        "hide_input": true,
        "id": "nuzcmC83DIWG",
        "colab_type": "code",
        "outputId": "64a95897-21c4-4b88-a166-41466d5e438d",
        "colab": {
          "base_uri": "https://localhost:8080/",
          "height": 703
        }
      },
      "source": [
        "g = ratings.groupby('title')['rating'].count()\n",
        "top_movies = g.sort_values(ascending=False).index.values[:1000]\n",
        "top_idxs = tensor([learn.dls.classes['title'].o2i[m] for m in top_movies])\n",
        "movie_w = learn.model.movie_factors[top_idxs].cpu().detach()\n",
        "movie_pca = movie_w.pca(3)\n",
        "fac0,fac1,fac2 = movie_pca.t()\n",
        "idxs = np.random.choice(len(top_movies), 50, replace=False)\n",
        "idxs = list(range(50))\n",
        "X = fac0[idxs]\n",
        "Y = fac2[idxs]\n",
        "plt.figure(figsize=(12,12))\n",
        "plt.scatter(X, Y)\n",
        "for i, x, y in zip(top_movies[idxs], X, Y):\n",
        "    plt.text(x,y,i, color=np.random.rand(3)*0.7, fontsize=11)\n",
        "plt.show()"
      ],
      "execution_count": 39,
      "outputs": [
        {
          "output_type": "display_data",
          "data": {
            "image/png": "[encoded data removed]",
            "text/plain": [
              "<Figure size 864x864 with 1 Axes>"
            ]
          },
          "metadata": {
            "tags": [],
            "needs_background": "light"
          }
        }
      ]
    },
    {
      "cell_type": "markdown",
      "metadata": {
        "id": "BCpPS8L-DIWN",
        "colab_type": "text"
      },
      "source": [
        "### Using fastai.collab"
      ]
    },
    {
      "cell_type": "code",
      "metadata": {
        "id": "Ru-fZNaFDIWN",
        "colab_type": "code",
        "colab": {}
      },
      "source": [
        "learn = collab_learner(dls, n_factors=50, y_range=(0, 5.5))"
      ],
      "execution_count": 0,
      "outputs": []
    },
    {
      "cell_type": "code",
      "metadata": {
        "id": "fVOwLwg6DIWT",
        "colab_type": "code",
        "outputId": "5a9a0aee-86bb-4cf2-e3b4-ae1a7c7af66e",
        "colab": {
          "base_uri": "https://localhost:8080/",
          "height": 204
        }
      },
      "source": [
        "learn.fit_one_cycle(5, 5e-3, wd=0.1)"
      ],
      "execution_count": 41,
      "outputs": [
        {
          "output_type": "display_data",
          "data": {
            "text/html": [
              "<table border=\"1\" class=\"dataframe\">\n",
              "  <thead>\n",
              "    <tr style=\"text-align: left;\">\n",
              "      <th>epoch</th>\n",
              "      <th>train_loss</th>\n",
              "      <th>valid_loss</th>\n",
              "      <th>time</th>\n",
              "    </tr>\n",
              "  </thead>\n",
              "  <tbody>\n",
              "    <tr>\n",
              "      <td>0</td>\n",
              "      <td>0.935861</td>\n",
              "      <td>0.951765</td>\n",
              "      <td>00:12</td>\n",
              "    </tr>\n",
              "    <tr>\n",
              "      <td>1</td>\n",
              "      <td>0.836603</td>\n",
              "      <td>0.875526</td>\n",
              "      <td>00:12</td>\n",
              "    </tr>\n",
              "    <tr>\n",
              "      <td>2</td>\n",
              "      <td>0.713244</td>\n",
              "      <td>0.835660</td>\n",
              "      <td>00:12</td>\n",
              "    </tr>\n",
              "    <tr>\n",
              "      <td>3</td>\n",
              "      <td>0.590631</td>\n",
              "      <td>0.821603</td>\n",
              "      <td>00:12</td>\n",
              "    </tr>\n",
              "    <tr>\n",
              "      <td>4</td>\n",
              "      <td>0.470492</td>\n",
              "      <td>0.822289</td>\n",
              "      <td>00:12</td>\n",
              "    </tr>\n",
              "  </tbody>\n",
              "</table>"
            ],
            "text/plain": [
              "<IPython.core.display.HTML object>"
            ]
          },
          "metadata": {
            "tags": []
          }
        }
      ]
    },
    {
      "cell_type": "code",
      "metadata": {
        "id": "WOVxMjppDIWb",
        "colab_type": "code",
        "outputId": "1c09ad5d-faaa-4aa4-987f-5a2a5705c3b7",
        "colab": {
          "base_uri": "https://localhost:8080/",
          "height": 119
        }
      },
      "source": [
        "learn.model"
      ],
      "execution_count": 42,
      "outputs": [
        {
          "output_type": "execute_result",
          "data": {
            "text/plain": [
              "EmbeddingDotBias(\n",
              "  (u_weight): Embedding(944, 50)\n",
              "  (i_weight): Embedding(1635, 50)\n",
              "  (u_bias): Embedding(944, 1)\n",
              "  (i_bias): Embedding(1635, 1)\n",
              ")"
            ]
          },
          "metadata": {
            "tags": []
          },
          "execution_count": 42
        }
      ]
    },
    {
      "cell_type": "code",
      "metadata": {
        "id": "xX7ZEa2IDIWf",
        "colab_type": "code",
        "outputId": "05bf4eb3-35db-4f3e-ee7a-bef6727f9b44",
        "colab": {
          "base_uri": "https://localhost:8080/",
          "height": 102
        }
      },
      "source": [
        "movie_bias = learn.model.i_bias.weight.squeeze()\n",
        "idxs = movie_bias.argsort(descending=True)[:5]\n",
        "[dls.classes['title'][i] for i in idxs]"
      ],
      "execution_count": 43,
      "outputs": [
        {
          "output_type": "execute_result",
          "data": {
            "text/plain": [
              "['Titanic (1997)',\n",
              " 'L.A. Confidential (1997)',\n",
              " 'Shawshank Redemption, The (1994)',\n",
              " 'Silence of the Lambs, The (1991)',\n",
              " 'Rear Window (1954)']"
            ]
          },
          "metadata": {
            "tags": []
          },
          "execution_count": 43
        }
      ]
    },
    {
      "cell_type": "markdown",
      "metadata": {
        "id": "Q5-FGdpMDIWm",
        "colab_type": "text"
      },
      "source": [
        "### Embedding distance"
      ]
    },
    {
      "cell_type": "code",
      "metadata": {
        "id": "lQXP8RM5DIWn",
        "colab_type": "code",
        "outputId": "27a1ff2a-b9fa-451b-e91f-97184c0bdbff",
        "colab": {
          "base_uri": "https://localhost:8080/",
          "height": 34
        }
      },
      "source": [
        "movie_factors = learn.model.i_weight.weight\n",
        "idx = dls.classes['title'].o2i['Silence of the Lambs, The (1991)']\n",
        "distances = nn.CosineSimilarity(dim=1)(movie_factors, movie_factors[idx][None])\n",
        "idx = distances.argsort(descending=True)[1]\n",
        "dls.classes['title'][idx]"
      ],
      "execution_count": 44,
      "outputs": [
        {
          "output_type": "execute_result",
          "data": {
            "text/plain": [
              "'Rear Window (1954)'"
            ]
          },
          "metadata": {
            "tags": []
          },
          "execution_count": 44
        }
      ]
    },
    {
      "cell_type": "markdown",
      "metadata": {
        "id": "zgK_vxQTDIWu",
        "colab_type": "text"
      },
      "source": [
        "## Boot strapping a collaborative filtering model"
      ]
    },
    {
      "cell_type": "markdown",
      "metadata": {
        "id": "FqFCXFBfDIWu",
        "colab_type": "text"
      },
      "source": [
        "## Deep learning for collaborative filtering"
      ]
    },
    {
      "cell_type": "code",
      "metadata": {
        "id": "1tWStVUcDIWv",
        "colab_type": "code",
        "outputId": "06df9a8b-4364-4540-9d08-000684ac141d",
        "colab": {
          "base_uri": "https://localhost:8080/",
          "height": 34
        }
      },
      "source": [
        "embs = get_emb_sz(dls)\n",
        "embs"
      ],
      "execution_count": 45,
      "outputs": [
        {
          "output_type": "execute_result",
          "data": {
            "text/plain": [
              "[(944, 74), (1635, 101)]"
            ]
          },
          "metadata": {
            "tags": []
          },
          "execution_count": 45
        }
      ]
    },
    {
      "cell_type": "code",
      "metadata": {
        "id": "8xFZnyXRDIWz",
        "colab_type": "code",
        "colab": {}
      },
      "source": [
        "class CollabNN(Module):\n",
        "    def __init__(self, user_sz, item_sz, y_range=(0,5.5), n_act=100):\n",
        "        self.user_factors = Embedding(*user_sz)\n",
        "        self.item_factors = Embedding(*item_sz)\n",
        "        self.layers = nn.Sequential(\n",
        "            nn.Linear(user_sz[1]+item_sz[1], n_act),\n",
        "            nn.ReLU(),\n",
        "            nn.Linear(n_act, 1))\n",
        "        self.y_range = y_range\n",
        "        \n",
        "    def forward(self, x):\n",
        "        embs = self.user_factors(x[:,0]),self.item_factors(x[:,1])\n",
        "        x = self.layers(torch.cat(embs, dim=1))\n",
        "        return sigmoid_range(x, *self.y_range)"
      ],
      "execution_count": 0,
      "outputs": []
    },
    {
      "cell_type": "code",
      "metadata": {
        "id": "hPB_hKCXDIW4",
        "colab_type": "code",
        "colab": {}
      },
      "source": [
        "model = CollabNN(*embs)"
      ],
      "execution_count": 0,
      "outputs": []
    },
    {
      "cell_type": "code",
      "metadata": {
        "id": "XbXsjc62DIXF",
        "colab_type": "code",
        "outputId": "dd67dd8a-cdb4-4e2f-8ee6-916e034c1db5",
        "colab": {
          "base_uri": "https://localhost:8080/",
          "height": 204
        }
      },
      "source": [
        "learn = Learner(dls, model, loss_func=MSELossFlat())\n",
        "learn.fit_one_cycle(5, 5e-3, wd=0.01)"
      ],
      "execution_count": 48,
      "outputs": [
        {
          "output_type": "display_data",
          "data": {
            "text/html": [
              "<table border=\"1\" class=\"dataframe\">\n",
              "  <thead>\n",
              "    <tr style=\"text-align: left;\">\n",
              "      <th>epoch</th>\n",
              "      <th>train_loss</th>\n",
              "      <th>valid_loss</th>\n",
              "      <th>time</th>\n",
              "    </tr>\n",
              "  </thead>\n",
              "  <tbody>\n",
              "    <tr>\n",
              "      <td>0</td>\n",
              "      <td>0.947006</td>\n",
              "      <td>0.960203</td>\n",
              "      <td>00:13</td>\n",
              "    </tr>\n",
              "    <tr>\n",
              "      <td>1</td>\n",
              "      <td>0.916812</td>\n",
              "      <td>0.901351</td>\n",
              "      <td>00:13</td>\n",
              "    </tr>\n",
              "    <tr>\n",
              "      <td>2</td>\n",
              "      <td>0.849472</td>\n",
              "      <td>0.882137</td>\n",
              "      <td>00:14</td>\n",
              "    </tr>\n",
              "    <tr>\n",
              "      <td>3</td>\n",
              "      <td>0.811199</td>\n",
              "      <td>0.874747</td>\n",
              "      <td>00:13</td>\n",
              "    </tr>\n",
              "    <tr>\n",
              "      <td>4</td>\n",
              "      <td>0.761534</td>\n",
              "      <td>0.877035</td>\n",
              "      <td>00:13</td>\n",
              "    </tr>\n",
              "  </tbody>\n",
              "</table>"
            ],
            "text/plain": [
              "<IPython.core.display.HTML object>"
            ]
          },
          "metadata": {
            "tags": []
          }
        }
      ]
    },
    {
      "cell_type": "code",
      "metadata": {
        "id": "Hh63711MDIXM",
        "colab_type": "code",
        "outputId": "fbc86735-f05c-49d4-82e6-7af037ec2a8a",
        "colab": {
          "base_uri": "https://localhost:8080/",
          "height": 204
        }
      },
      "source": [
        "learn = collab_learner(dls, use_nn=True, y_range=(0, 5.5), layers=[100,50])\n",
        "learn.fit_one_cycle(5, 5e-3, wd=0.1)"
      ],
      "execution_count": 49,
      "outputs": [
        {
          "output_type": "display_data",
          "data": {
            "text/html": [
              "<table border=\"1\" class=\"dataframe\">\n",
              "  <thead>\n",
              "    <tr style=\"text-align: left;\">\n",
              "      <th>epoch</th>\n",
              "      <th>train_loss</th>\n",
              "      <th>valid_loss</th>\n",
              "      <th>time</th>\n",
              "    </tr>\n",
              "  </thead>\n",
              "  <tbody>\n",
              "    <tr>\n",
              "      <td>0</td>\n",
              "      <td>1.015790</td>\n",
              "      <td>0.999138</td>\n",
              "      <td>00:15</td>\n",
              "    </tr>\n",
              "    <tr>\n",
              "      <td>1</td>\n",
              "      <td>0.881062</td>\n",
              "      <td>0.930609</td>\n",
              "      <td>00:15</td>\n",
              "    </tr>\n",
              "    <tr>\n",
              "      <td>2</td>\n",
              "      <td>0.880958</td>\n",
              "      <td>0.894390</td>\n",
              "      <td>00:15</td>\n",
              "    </tr>\n",
              "    <tr>\n",
              "      <td>3</td>\n",
              "      <td>0.817129</td>\n",
              "      <td>0.870407</td>\n",
              "      <td>00:15</td>\n",
              "    </tr>\n",
              "    <tr>\n",
              "      <td>4</td>\n",
              "      <td>0.791338</td>\n",
              "      <td>0.866578</td>\n",
              "      <td>00:15</td>\n",
              "    </tr>\n",
              "  </tbody>\n",
              "</table>"
            ],
            "text/plain": [
              "<IPython.core.display.HTML object>"
            ]
          },
          "metadata": {
            "tags": []
          }
        }
      ]
    },
    {
      "cell_type": "code",
      "metadata": {
        "id": "23jzwRGCDIXS",
        "colab_type": "code",
        "colab": {}
      },
      "source": [
        "@delegates(TabularModel)\n",
        "class EmbeddingNN(TabularModel):\n",
        "    def __init__(self, emb_szs, layers, **kwargs):\n",
        "        super().__init__(emb_szs, layers=layers, n_cont=0, out_sz=1, **kwargs)"
      ],
      "execution_count": 0,
      "outputs": []
    },
    {
      "cell_type": "markdown",
      "metadata": {
        "id": "yv50P2UTDIXV",
        "colab_type": "text"
      },
      "source": [
        "### Sidebar: kwargs and delegates"
      ]
    },
    {
      "cell_type": "markdown",
      "metadata": {
        "id": "VnlsgKaCDIXX",
        "colab_type": "text"
      },
      "source": [
        "### End sidebar"
      ]
    },
    {
      "cell_type": "markdown",
      "metadata": {
        "id": "RDinzh84DIXX",
        "colab_type": "text"
      },
      "source": [
        "## Questionnaire"
      ]
    },
    {
      "cell_type": "markdown",
      "metadata": {
        "id": "FeBNouRfDIXZ",
        "colab_type": "text"
      },
      "source": [
        "1. What problem does collaborative filtering solve?\n",
        "1. How does it solve it?\n",
        "1. Why might a collaborative filtering predictive model fail to be a very useful recommendation system?\n",
        "1. What does a crosstab representation of collaborative filtering data look like?\n",
        "1. Write the code to create a crosstab representation of the MovieLens data (you might need to do some web searching!)\n",
        "1. What is a latent factor? Why is it \"latent\"?\n",
        "1. What is a dot product? Calculate a dot product manually using pure python with lists.\n",
        "1. What does `pandas.DataFrame.merge` do?\n",
        "1. What is an embedding matrix?\n",
        "1. What is the relationship between an embedding and a matrix of one-hot encoded vectors?\n",
        "1. Why do we need `Embedding` if we could use one-hot encoded vectors for the same thing?\n",
        "1. What does an embedding contain before we start training (assuming we're not using a prertained model)?\n",
        "1. Create a class (without peeking, if possible!) and use it.\n",
        "1. What does `x[:,0]` return?\n",
        "1. Rewrite the `DotProduct` class (without peeking, if possible!) and train a model with it\n",
        "1. What is a good loss function to use for MovieLens? Why? \n",
        "1. What would happen if we used `CrossEntropy` loss with MovieLens? How would we need to change the model?\n",
        "1. What is the use of bias in a dot product model?\n",
        "1. What is another name for weight decay?\n",
        "1. Write the equation for weight decay (without peeking!)\n",
        "1. Write the equation for the gradient of weight decay. Why does it help reduce weights?\n",
        "1. Why does reducing weights lead to better generalization?\n",
        "1. What does `argsort` do in PyTorch?\n",
        "1. Does sorting the movie biases give the same result as averaging overall movie ratings by movie? Why / why not?\n",
        "1. How do you print the names and details of the layers in a model?\n",
        "1. What is the \"bootstrapping problem\" in collaborative filtering?\n",
        "1. How could you deal with the bootstrapping problem for new users? For new movies?\n",
        "1. How can feedback loops impact collaborative filtering systems?\n",
        "1. When using a neural network in collaborative filtering, why can we have different number of factors for movie and user?\n",
        "1. Why is there a `nn.Sequential` in the `CollabNN` model?\n",
        "1. What kind of model should be use if we want to add metadata about users and items, or information such as date and time, to a collaborative filter model?"
      ]
    },
    {
      "cell_type": "markdown",
      "metadata": {
        "id": "PFkdz8ufDIXc",
        "colab_type": "text"
      },
      "source": [
        "### Further research\n",
        "\n",
        "1. Take a look at all the differences between the `Embedding` version of `DotProductBias` and the `create_params` version, and try to understand why each of those changes is required. If you're not sure, try reverting each change, to see what happens. (NB: even the type of brackets used in `forward` has changed!)\n",
        "1. Find three other areas where collaborative filtering is being used, and find out what pros and cons of this approach in those areas.\n",
        "1. Complete this notebook using the full MovieLens dataset, and compare your results to online benchmarks. See if you can improve your accuracy. Look on the book website and forum for ideas. Note that there are more columns in the full dataset--see if you can use those too (the next chapter might give you ideas)\n",
        "1. Create a model for MovieLens with works with CrossEntropy loss, and compare it to the model in this chapter."
      ]
    },
    {
      "cell_type": "code",
      "metadata": {
        "id": "DuLPsVBaDIXd",
        "colab_type": "code",
        "colab": {}
      },
      "source": [
        ""
      ],
      "execution_count": 0,
      "outputs": []
    }
  ]
}